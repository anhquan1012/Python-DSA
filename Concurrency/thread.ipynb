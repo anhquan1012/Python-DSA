{
 "cells": [
  {
   "cell_type": "markdown",
   "metadata": {},
   "source": [
    "# Thread\n",
    "The threading module provides a very simple and intuitive API for spawning multiple threads in a program\n",
    "\n",
    "Multiple threads can exist within one process where:\n",
    "- Each thread contains its own register set and local variables (stored in the stack) .\n",
    "- All threads of a process share global variables (stored in heap) and the program code .\n",
    "\n",
    "The two main types of threads in Python are: \n",
    "- Main Thread  : The initial thread of execution when the program starts. \n",
    "- Daemon Threads  : Background threads that automatically exit when the main thread terminates. \n",
    "- Non-Daemon Threads  : Threads that continue to run until they complete their task, even if the main thread exits. "
   ]
  },
  {
   "cell_type": "code",
   "execution_count": 5,
   "metadata": {},
   "outputs": [],
   "source": [
    "\n",
    "import threading\n",
    "import time\n",
    "\n",
    "def io_bound_task(name, duration):\n",
    "    print(f\"Task {name} started...\")\n",
    "    time.sleep(duration)  # Simulates blocking I/O\n",
    "    print(f\"Task {name} completed.\")\n"
   ]
  },
  {
   "cell_type": "code",
   "execution_count": 2,
   "metadata": {},
   "outputs": [
    {
     "name": "stdout",
     "output_type": "stream",
     "text": [
      "Task A started...\n",
      "Task B started...\n",
      "Task C started...\n",
      "Task C completed.\n",
      "Task B completed.\n",
      "Task A completed.\n",
      "Total execution time (Threading): 3.00 seconds\n"
     ]
    }
   ],
   "source": [
    "start_time = time.time()\n",
    "threads = []\n",
    "\n",
    "# Create multiple threads\n",
    "for task_name, duration in [(\"A\", 3), (\"B\", 2), (\"C\", 1)]:\n",
    "    thread = threading.Thread(target=io_bound_task, args=(task_name, duration))\n",
    "    threads.append(thread)\n",
    "    thread.start()\n",
    "\n",
    "# Wait for all threads to complete\n",
    "for thread in threads:\n",
    "    thread.join()\n",
    "\n",
    "print(f\"Total execution time (Threading): {time.time() - start_time:.2f} seconds\")"
   ]
  },
  {
   "cell_type": "markdown",
   "metadata": {},
   "source": [
    "## ThreadPool\n",
    "A thread pool is a collection of threads that are created in advance and can be reused to execute multiple tasks.\n",
    "\n",
    "Thread pool can be used to get output from function."
   ]
  },
  {
   "cell_type": "code",
   "execution_count": 6,
   "metadata": {},
   "outputs": [
    {
     "name": "stdout",
     "output_type": "stream",
     "text": [
      "Task A started...\n",
      "Task B started...\n",
      "Task C started...\n",
      "Task C completed.\n",
      "Result from Task C\n",
      "Task B completed.\n",
      "Result from Task B\n",
      "Task A completed.\n",
      "Result from Task A\n",
      "Total execution time: 3.00 seconds\n"
     ]
    }
   ],
   "source": [
    "import concurrent.futures\n",
    "\n",
    "\n",
    "def io_task(name, duration):\n",
    "    \"\"\"Simulates an I/O-bound task using sleep\"\"\"\n",
    "    print(f\"Task {name} started...\")\n",
    "    time.sleep(duration)  # Simulates a blocking I/O operation\n",
    "    print(f\"Task {name} completed.\")\n",
    "    return f\"Result from Task {name}\"\n",
    "\n",
    "start_time = time.time()\n",
    "\n",
    "# Using ThreadPoolExecutor to run tasks concurrently\n",
    "with concurrent.futures.ThreadPoolExecutor() as executor:\n",
    "    tasks = {\"A\": 3, \"B\": 2, \"C\": 1}\n",
    "    \n",
    "    # Submitting tasks\n",
    "    futures = {executor.submit(io_task, name, duration): name for name, duration in tasks.items()}\n",
    "    \n",
    "    # Collecting results\n",
    "    for future in concurrent.futures.as_completed(futures):\n",
    "        print(future.result())  # Prints results as tasks complete\n",
    "\n",
    "print(f\"Total execution time: {time.time() - start_time:.2f} seconds\")"
   ]
  }
 ],
 "metadata": {
  "kernelspec": {
   "display_name": "base",
   "language": "python",
   "name": "python3"
  },
  "language_info": {
   "codemirror_mode": {
    "name": "ipython",
    "version": 3
   },
   "file_extension": ".py",
   "mimetype": "text/x-python",
   "name": "python",
   "nbconvert_exporter": "python",
   "pygments_lexer": "ipython3",
   "version": "3.11.5"
  }
 },
 "nbformat": 4,
 "nbformat_minor": 2
}
