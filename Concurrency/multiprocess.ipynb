{
 "cells": [
  {
   "cell_type": "markdown",
   "metadata": {},
   "source": [
    "## Multiprocessing\n",
    "Multiprocessing refers to the ability of a system to support more than one processor at the same time and/or the ability to allocate tasks between them. \n",
    "\n",
    "Applications in a multiprocessing system are broken to smaller routines that run independently.\n",
    "\n",
    "The main python script has a different process ID and multiprocessing module spawns new processes with different process IDs."
   ]
  },
  {
   "cell_type": "code",
   "execution_count": 3,
   "metadata": {},
   "outputs": [
    {
     "name": "stdout",
     "output_type": "stream",
     "text": [
      "Factorial of 50000 computed.\n",
      "Factorial of 60000 computed.\n",
      "Factorial of 70000 computed.\n",
      "Total execution time (Multiprocessing): 0.96 seconds\n"
     ]
    }
   ],
   "source": [
    "import multiprocessing\n",
    "import time\n",
    "\n",
    "def compute_factorial(n):\n",
    "    \"\"\"Computes factorial (CPU-intensive).\"\"\"\n",
    "    result = 1\n",
    "    for i in range(2, n + 1):\n",
    "        result *= i\n",
    "    print(f\"Factorial of {n} computed.\")\n",
    "\n",
    "start_time = time.time()\n",
    "processes = []\n",
    "\n",
    "for num in [50000, 60000, 70000]:\n",
    "    process = multiprocessing.Process(target=compute_factorial, args=(num,))\n",
    "    processes.append(process)\n",
    "    process.start()\n",
    "\n",
    "for process in processes:\n",
    "    process.join()\n",
    "\n",
    "print(f\"Total execution time (Multiprocessing): {time.time() - start_time:.2f} seconds\")\n"
   ]
  },
  {
   "cell_type": "markdown",
   "metadata": {},
   "source": [
    "## Communication between processes\n",
    "In multiprocessing, any newly created process will do following:\n",
    "- run independently\n",
    "- have their own memory space.\n",
    "\n",
    "\n",
    "### 1. Shared memory: \n",
    "Multiprocessing module provides Array and Value objects to share data between processes.\n",
    "- Array: a ctypes array allocated from shared memory.\n",
    "- Value: a ctypes object allocated from shared memory."
   ]
  },
  {
   "cell_type": "code",
   "execution_count": 27,
   "metadata": {},
   "outputs": [
    {
     "name": "stdout",
     "output_type": "stream",
     "text": [
      "Result(in process p1): [1, 4, 9, 16]\n",
      "Sum of squares(in process p1): 30\n",
      "Result(in main program): [1, 4, 9, 16]\n",
      "Sum of squares(in main program): 30\n"
     ]
    }
   ],
   "source": [
    "import multiprocessing \n",
    "\n",
    "def square_list(mylist, result, square_sum): \n",
    "\t\"\"\" \n",
    "\tfunction to square a given list \n",
    "\t\"\"\"\n",
    "\t# append squares of mylist to result array \n",
    "\tfor idx, num in enumerate(mylist): \n",
    "\t\tresult[idx] = num * num \n",
    "\n",
    "\t# square_sum value \n",
    "\tsquare_sum.value = sum(result) \n",
    "\n",
    "\t# print result Array \n",
    "\tprint(\"Result(in process p1): {}\".format(result[:])) \n",
    "\n",
    "\t# print square_sum Value \n",
    "\tprint(\"Sum of squares(in process p1): {}\".format(square_sum.value)) \n",
    "\n",
    "# input list \n",
    "mylist = [1,2,3,4] \n",
    "\n",
    "# creating Array of int data type with space for 4 integers \n",
    "result = multiprocessing.Array('i', 4) \n",
    "\n",
    "# creating Value of int data type \n",
    "square_sum = multiprocessing.Value('i') \n",
    "\n",
    "# creating new process \n",
    "p1 = multiprocessing.Process(target=square_list, args=(mylist, result, square_sum)) \n",
    "\n",
    "# starting process \n",
    "p1.start() \n",
    "\n",
    "# wait until the process is finished \n",
    "p1.join() \n",
    "\n",
    "# print result array \n",
    "print(\"Result(in main program): {}\".format(result[:])) \n",
    "\n",
    "# print square_sum Value \n",
    "print(\"Sum of squares(in main program): {}\".format(square_sum.value)) \n"
   ]
  },
  {
   "cell_type": "markdown",
   "metadata": {},
   "source": [
    "### 2. Server process: \n",
    "Whenever a python program starts, a server process is also started. From there on, whenever a new process is needed, the parent process connects to the server and requests it to fork a new process.\n",
    "\n",
    "A server process can hold Python objects and allows other processes to manipulate them using proxies.\n",
    "multiprocessing module provides a Manager class which controls a server process. Hence, managers provide a way to create data that can be shared between different processes.\n",
    "\n",
    "Server process managers are more flexible than using shared memory objects because they can be made to support arbitrary object types like lists, dictionaries, Queue, Value, Array, etc. Also, a single manager can be shared by processes on different computers over a network. They are, however, slower than using shared memory."
   ]
  },
  {
   "cell_type": "code",
   "execution_count": 26,
   "metadata": {},
   "outputs": [
    {
     "name": "stdout",
     "output_type": "stream",
     "text": [
      "New record added!\n",
      "\n",
      "Name: Sam\n",
      "Score: 10\n",
      "\n",
      "Name: Adam\n",
      "Score: 9\n",
      "\n",
      "Name: Kevin\n",
      "Score: 9\n",
      "\n",
      "Name: Jeff\n",
      "Score: 8\n",
      "\n"
     ]
    }
   ],
   "source": [
    "import multiprocessing \n",
    "  \n",
    "def print_records(records): \n",
    "    \"\"\" \n",
    "    function to print record(tuples) in records(list) \n",
    "    \"\"\"\n",
    "    for record in records: \n",
    "        print(\"Name: {0}\\nScore: {1}\\n\".format(record[0], record[1])) \n",
    "  \n",
    "def insert_record(record, records): \n",
    "    \"\"\" \n",
    "    function to add a new record to records(list) \n",
    "    \"\"\"\n",
    "    records.append(record) \n",
    "    print(\"New record added!\\n\") \n",
    "  \n",
    "with multiprocessing.Manager() as manager: \n",
    "    # creating a list in server process memory \n",
    "    records = manager.list([('Sam', 10), ('Adam', 9), ('Kevin',9)]) \n",
    "    # new record to be inserted in records \n",
    "    new_record = ('Jeff', 8) \n",
    "\n",
    "    # creating new processes \n",
    "    p1 = multiprocessing.Process(target=insert_record, args=(new_record, records)) \n",
    "    p2 = multiprocessing.Process(target=print_records, args=(records,)) \n",
    "\n",
    "    # running process p1 to insert new record \n",
    "    p1.start() \n",
    "    p1.join() \n",
    "\n",
    "    # running process p2 to print records \n",
    "    p2.start() \n",
    "    p2.join() "
   ]
  },
  {
   "cell_type": "markdown",
   "metadata": {},
   "source": [
    "Effective use of multiple processes usually requires some communication between them, so that work can be divided and results can be aggregated.\n",
    "\n",
    "Multiprocessing supports two types of communication channel between processes:\n",
    "- Queue: best for multiple producers and consumers\n",
    "- Pipe: best for bidirectional communication"
   ]
  },
  {
   "cell_type": "markdown",
   "metadata": {},
   "source": [
    "### 3. Queue\n",
    "A simple way to communicate between process with multiprocessing is to use a Queue to pass messages back and forth. Any Python object can pass through a Queue."
   ]
  },
  {
   "cell_type": "code",
   "execution_count": 7,
   "metadata": {},
   "outputs": [
    {
     "name": "stdout",
     "output_type": "stream",
     "text": [
      "Queue elements:\n",
      "1\n",
      "4\n",
      "9\n"
     ]
    },
    {
     "name": "stdout",
     "output_type": "stream",
     "text": [
      "16\n",
      "Queue is now empty!\n"
     ]
    }
   ],
   "source": [
    "import multiprocessing \n",
    "  \n",
    "def square_list(mylist, q): \n",
    "    \"\"\" \n",
    "    function to square a given list \n",
    "    \"\"\"\n",
    "    # append squares of mylist to queue \n",
    "    for num in mylist: \n",
    "        q.put(num * num) \n",
    "  \n",
    "def print_queue(q): \n",
    "    \"\"\" \n",
    "    function to print queue elements \n",
    "    \"\"\"\n",
    "    print(\"Queue elements:\") \n",
    "    while not q.empty(): \n",
    "        print(q.get()) \n",
    "    print(\"Queue is now empty!\") \n",
    "  \n",
    "# input list \n",
    "mylist = [1,2,3,4] \n",
    "\n",
    "# creating multiprocessing Queue \n",
    "q = multiprocessing.Queue() \n",
    "\n",
    "# creating new processes \n",
    "p1 = multiprocessing.Process(target=square_list, args=(mylist, q)) \n",
    "p2 = multiprocessing.Process(target=print_queue, args=(q,)) \n",
    "\n",
    "# running process p1 to square list \n",
    "p1.start() \n",
    "p1.join() \n",
    "\n",
    "# running process p2 to get queue elements \n",
    "p2.start() \n",
    "p2.join() "
   ]
  },
  {
   "cell_type": "markdown",
   "metadata": {},
   "source": [
    "### 4. Pipes\n",
    "A pipe can have only two endpoints. Hence, it is preferred over queue when only two-way communication is required."
   ]
  },
  {
   "cell_type": "code",
   "execution_count": 25,
   "metadata": {},
   "outputs": [
    {
     "name": "stdout",
     "output_type": "stream",
     "text": [
      "Sent the message: hello\n",
      "Sent the message: hey\n",
      "Received the message: helloSent the message: hru?\n",
      "\n",
      "Received the message: heySent the message: END\n",
      "\n",
      "Received the message: hru?\n"
     ]
    }
   ],
   "source": [
    "import multiprocessing \n",
    "\n",
    "def sender(conn, msgs): \n",
    "\t\"\"\" \n",
    "\tfunction to send messages to other end of pipe \n",
    "\t\"\"\"\n",
    "\tfor msg in msgs: \n",
    "\t\tconn.send(msg) \n",
    "\t\tprint(\"Sent the message: {}\".format(msg)) \n",
    "\tconn.close() \n",
    "\n",
    "def receiver(conn): \n",
    "\t\"\"\" \n",
    "\tfunction to print the messages received from other \n",
    "\tend of pipe \n",
    "\t\"\"\"\n",
    "\twhile 1: \n",
    "\t\tmsg = conn.recv() \n",
    "\t\tif msg == \"END\": \n",
    "\t\t\tbreak\n",
    "\t\tprint(\"Received the message: {}\".format(msg)) \n",
    "\n",
    "\n",
    "# messages to be sent \n",
    "msgs = [\"hello\", \"hey\", \"hru?\", \"END\"] \n",
    "\n",
    "# creating a pipe \n",
    "parent_conn, child_conn = multiprocessing.Pipe() \n",
    "\n",
    "# creating new processes \n",
    "p1 = multiprocessing.Process(target=sender, args=(parent_conn,msgs)) \n",
    "p2 = multiprocessing.Process(target=receiver, args=(child_conn,))\n",
    "\n",
    "# running processes \n",
    "p1.start() \n",
    "p2.start() \n",
    "\n",
    "# wait until processes finish \n",
    "p1.join() \n",
    "p2.join() "
   ]
  },
  {
   "cell_type": "markdown",
   "metadata": {},
   "source": [
    "## Synchronization between processes\n",
    "Process synchronization is defined as a mechanism which ensures that two or more concurrent processes do not simultaneously execute some particular program segment known as critical section.\n",
    "\n",
    "__Critical section refers to the parts of the program where the shared resource is accessed.__\n",
    "\n",
    "Concurrent accesses to shared resource can lead to race condition.\n",
    "\n",
    "__A race condition occurs when two or more processes can access shared data and they try to change it at the same time. As a result, the values of variables may be unpredictable and vary depending on the timings of context switches of the processes.__"
   ]
  },
  {
   "cell_type": "code",
   "execution_count": 28,
   "metadata": {},
   "outputs": [
    {
     "name": "stdout",
     "output_type": "stream",
     "text": [
      "Final balance = 100\n",
      "Final balance = -95\n",
      "Final balance = 90\n",
      "Final balance = 295\n",
      "Final balance = 108\n",
      "Final balance = -191\n",
      "Final balance = 2910\n",
      "Final balance = 74\n",
      "Final balance = 170\n",
      "Final balance = 658\n"
     ]
    }
   ],
   "source": [
    "# Python program to illustrate  \n",
    "# the concept of race condition \n",
    "# in multiprocessing \n",
    "import multiprocessing \n",
    "  \n",
    "# function to withdraw from account \n",
    "def withdraw(balance):     \n",
    "    for _ in range(10000): \n",
    "        balance.value = balance.value - 1\n",
    "  \n",
    "# function to deposit to account \n",
    "def deposit(balance):     \n",
    "    for _ in range(10000): \n",
    "        balance.value = balance.value + 1\n",
    "  \n",
    "def perform_transactions(): \n",
    "  \n",
    "    # initial balance (in shared memory) \n",
    "    balance = multiprocessing.Value('i', 100) \n",
    "  \n",
    "    # creating new processes \n",
    "    p1 = multiprocessing.Process(target=withdraw, args=(balance,)) \n",
    "    p2 = multiprocessing.Process(target=deposit, args=(balance,)) \n",
    "  \n",
    "    # starting processes \n",
    "    p1.start() \n",
    "    p2.start() \n",
    "  \n",
    "    # wait until processes are finished \n",
    "    p1.join() \n",
    "    p2.join() \n",
    "  \n",
    "    # print final balance \n",
    "    print(\"Final balance = {}\".format(balance.value)) \n",
    "\n",
    "  \n",
    "for _ in range(10): \n",
    "    # perform same transaction process 10 times \n",
    "    perform_transactions() "
   ]
  },
  {
   "cell_type": "markdown",
   "metadata": {},
   "source": [
    "Multiprocessing module provides a __Lock__ class to deal with the race conditions. __Lock__ is implemented using a Semaphore object provided by the Operating System.\n",
    "\n",
    "A semaphore is a synchronization object that controls access by multiple processes to a common resource in a parallel programming environment. It is simply a value in a designated place in operating system (or kernel) storage that each process can check and then change. Depending on the value that is found, the process can use the resource or will find that it is already in use and must wait for some period before trying again. Semaphores can be binary (0 or 1) or can have additional values. Typically, a process using semaphores checks the value and then, if it using the resource, changes the value to reflect this so that subsequent semaphore users will know to wait."
   ]
  },
  {
   "cell_type": "code",
   "execution_count": 29,
   "metadata": {},
   "outputs": [
    {
     "name": "stdout",
     "output_type": "stream",
     "text": [
      "Final balance = 100\n",
      "Final balance = 100\n",
      "Final balance = 100\n",
      "Final balance = 100\n",
      "Final balance = 100\n",
      "Final balance = 100\n",
      "Final balance = 100\n",
      "Final balance = 100\n",
      "Final balance = 100\n",
      "Final balance = 100\n"
     ]
    }
   ],
   "source": [
    "# Python program to illustrate \n",
    "# the concept of locks \n",
    "# in multiprocessing \n",
    "import multiprocessing \n",
    "\n",
    "# function to withdraw from account \n",
    "def withdraw(balance, lock):\t \n",
    "\tfor _ in range(10000): \n",
    "\t\tlock.acquire()\n",
    "\t\tbalance.value = balance.value - 1\n",
    "\t\tlock.release() \n",
    "\n",
    "# function to deposit to account \n",
    "def deposit(balance, lock):\t \n",
    "\tfor _ in range(10000): \n",
    "\t\tlock.acquire() \n",
    "\t\tbalance.value = balance.value + 1\n",
    "\t\tlock.release() \n",
    "\n",
    "def perform_transactions(): \n",
    "\n",
    "\t# initial balance (in shared memory) \n",
    "\tbalance = multiprocessing.Value('i', 100) \n",
    "\n",
    "\t# creating a lock object \n",
    "\tlock = multiprocessing.Lock() \n",
    "\n",
    "\t# creating new processes \n",
    "\tp1 = multiprocessing.Process(target=withdraw, args=(balance,lock)) \n",
    "\tp2 = multiprocessing.Process(target=deposit, args=(balance,lock)) \n",
    "\n",
    "\t# starting processes \n",
    "\tp1.start() \n",
    "\tp2.start() \n",
    "\n",
    "\t# wait until processes are finished \n",
    "\tp1.join() \n",
    "\tp2.join() \n",
    "\n",
    "\t# print final balance \n",
    "\tprint(\"Final balance = {}\".format(balance.value)) \n",
    "\n",
    "\n",
    "for _ in range(10): \n",
    "    # perform same transaction process 10 times \n",
    "    perform_transactions() \n"
   ]
  },
  {
   "attachments": {
    "image.png": {
     "image/png": "[encoded data removed]"
    }
   },
   "cell_type": "markdown",
   "metadata": {},
   "source": [
    "## Pooling between processes\n",
    "In simple program, only one of the cores is used for program execution and it’s quite possible that other cores remain idle.\n",
    "\n",
    "In order to utilize all the cores, multiprocessing module provides a __Pool__ class. The __Pool__ class represents a pool of worker processes. It has methods which allows tasks to be offloaded to the worker processes in a few different ways.\n",
    "\n",
    "![image.png](attachment:image.png)\n",
    "\n",
    "Here, the task is offloaded/distributed among the cores/processes automatically by Pool object. User doesn’t need to worry about creating processes explicitly."
   ]
  },
  {
   "cell_type": "code",
   "execution_count": 1,
   "metadata": {},
   "outputs": [
    {
     "name": "stdout",
     "output_type": "stream",
     "text": [
      "Worker process id for 1: 80176Worker process id for 3: 80178Worker process id for 2: 80177Worker process id for 5: 80180Worker process id for 4: 80179\n",
      "\n",
      "\n",
      "\n",
      "\n",
      "[1, 4, 9, 16, 25]\n"
     ]
    }
   ],
   "source": [
    "\n",
    "\n",
    "# Python program to understand  \n",
    "# the concept of pool \n",
    "import multiprocessing \n",
    "import os \n",
    "  \n",
    "def square(n): \n",
    "    print(\"Worker process id for {0}: {1}\".format(n, os.getpid())) \n",
    "    return (n*n) \n",
    "  \n",
    "  \n",
    "# input list \n",
    "mylist = [1,2,3,4,5] \n",
    "\n",
    "# creating a pool object \n",
    "p = multiprocessing.Pool() \n",
    "\n",
    "# map list to target function \n",
    "result = p.map(square, mylist) \n",
    "\n",
    "print(result) "
   ]
  }
 ],
 "metadata": {
  "kernelspec": {
   "display_name": "base",
   "language": "python",
   "name": "python3"
  },
  "language_info": {
   "codemirror_mode": {
    "name": "ipython",
    "version": 3
   },
   "file_extension": ".py",
   "mimetype": "text/x-python",
   "name": "python",
   "nbconvert_exporter": "python",
   "pygments_lexer": "ipython3",
   "version": "3.11.5"
  }
 },
 "nbformat": 4,
 "nbformat_minor": 2
}
