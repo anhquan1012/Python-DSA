{
 "cells": [
  {
   "cell_type": "markdown",
   "metadata": {},
   "source": [
    "# OOP\n",
    "OOP is a way of organizing code that uses objects and classes to represent real-world entities and their behavior. In OOP, object has attributes thing that has specific data and can perform certain actions using methods.\n",
    "# OOP Concepts in Python\n",
    "- Class in Python\n",
    "- Objects in Python\n",
    "- Inheritance in Python\n",
    "- Polymorphism in Python\n",
    "- Encapsulation in Python\n",
    "- Data Abstraction in Python"
   ]
  },
  {
   "cell_type": "markdown",
   "metadata": {},
   "source": [
    "## Class\n",
    "A class is a collection of objects. Classes are blueprints for creating objects. A class defines a set of attributes and methods that the created objects (instances) can have.\n",
    "\n",
    "*Some points on Python class*:  \n",
    "- Classes are created by keyword class.\n",
    "- Attributes are the variables that belong to a class.\n",
    "- Attributes are always public and can be accessed using the dot (.) operator. Example: Myclass.Myattribute"
   ]
  },
  {
   "cell_type": "code",
   "execution_count": 1,
   "metadata": {},
   "outputs": [],
   "source": [
    "class Dog:\n",
    "    species = \"Canine\"  # Class attribute\n",
    "\n",
    "    def __init__(self, name, age):\n",
    "        self.name = name  # Instance attribute\n",
    "        self.age = age  # Instance attribute"
   ]
  },
  {
   "cell_type": "markdown",
   "metadata": {},
   "source": [
    "## Objects\n",
    "An Object is an instance of a Class. It represents a specific implementation of the class and holds its own data.\n",
    "\n",
    "An object consists of:\n",
    "- State: It is represented by the attributes and reflects the properties of an object.\n",
    "- Behavior: It is represented by the methods of an object and defines the actions of an object.\n",
    "- Identity: It gives a unique name to an object and enables one object.\n",
    "\n",
    "**self** parameter is a reference to the current instance of the class.\n",
    "\n",
    "**\\_\\_init\\_\\_** method is the constructor in Python, automatically called when a new object is created."
   ]
  },
  {
   "cell_type": "code",
   "execution_count": 3,
   "metadata": {},
   "outputs": [
    {
     "name": "stdout",
     "output_type": "stream",
     "text": [
      "Buddy\n",
      "Canine\n",
      "<__main__.Dog object at 0x000001E9AF868B90>\n"
     ]
    }
   ],
   "source": [
    "class Dog:\n",
    "    species = \"Canine\"  # Class attribute\n",
    "\n",
    "    def __init__(self, name, age):\n",
    "        self.name = name  # Instance attribute\n",
    "        self.age = age  # Instance attribute\n",
    "\n",
    "# Creating an object of the Dog class\n",
    "dog1 = Dog(\"Buddy\", 3)\n",
    "\n",
    "print(dog1.name) \n",
    "print(dog1.species)\n",
    "print(dog1)"
   ]
  },
  {
   "cell_type": "markdown",
   "metadata": {},
   "source": [
    "## Class and instance variables\n",
    "In Python, variables defined in a class can be either class variables or instance variables, and understanding the distinction between them is crucial for object-oriented programming.\n",
    "\n",
    "__Class Variables__\n",
    "\n",
    "These are the variables that are shared across all instances of a class. It is defined at the class level, outside any methods. All objects of the class share the same value for a class variable unless explicitly overridden in an object.\n",
    "\n",
    "__Instance Variables__\n",
    "\n",
    "Variables that are unique to each instance (object) of a class. These are defined within the \\_\\_init\\_\\_ method or other instance methods. Each object maintains its own copy of instance variables, independent of other objects."
   ]
  },
  {
   "cell_type": "code",
   "execution_count": 4,
   "metadata": {},
   "outputs": [
    {
     "name": "stdout",
     "output_type": "stream",
     "text": [
      "Canine\n",
      "Buddy\n",
      "Charlie\n",
      "Max\n",
      "Feline\n",
      "Feline\n"
     ]
    }
   ],
   "source": [
    "class Dog:\n",
    "    # Class variable\n",
    "    species = \"Canine\"\n",
    "\n",
    "    def __init__(self, name, age):\n",
    "        # Instance variables\n",
    "        self.name = name\n",
    "        self.age = age\n",
    "\n",
    "# Create objects\n",
    "dog1 = Dog(\"Buddy\", 3)\n",
    "dog2 = Dog(\"Charlie\", 5)\n",
    "\n",
    "# Access class and instance variables\n",
    "print(dog1.species)  # (Class variable)\n",
    "print(dog1.name)     # (Instance variable)\n",
    "print(dog2.name)     # (Instance variable)\n",
    "\n",
    "# Modify instance variables\n",
    "dog1.name = \"Max\"\n",
    "print(dog1.name)     # (Updated instance variable)\n",
    "\n",
    "# Modify class variable\n",
    "Dog.species = \"Feline\"\n",
    "print(dog1.species)  # (Updated class variable)\n",
    "print(dog2.species)"
   ]
  },
  {
   "cell_type": "markdown",
   "metadata": {},
   "source": [
    "## Inheritance\n",
    "Inheritance allows a class (child class) to acquire properties and methods of another class (parent class). It supports hierarchical classification and promotes code reuse.\n",
    "\n",
    "**Types of Inheritance:**\n",
    "1. Single Inheritance: A child class inherits from a single parent class.\n",
    "2. Multiple Inheritance: A child class inherits from more than one parent class.\n",
    "3. Multilevel Inheritance: A child class inherits from a parent class, which in turn inherits from another class.\n",
    "4. Hierarchical Inheritance: Multiple child classes inherit from a single parent class.\n",
    "5. Hybrid Inheritance: A combination of two or more types of inheritance in a program."
   ]
  },
  {
   "cell_type": "code",
   "execution_count": 5,
   "metadata": {},
   "outputs": [
    {
     "name": "stdout",
     "output_type": "stream",
     "text": [
      "Dog's Name: Buddy\n",
      "Labrador woofs\n",
      "Dog's Name: Max\n",
      "MaxGuides the way!\n",
      "Dog's Name: Charlie\n",
      "Friendly!\n",
      "Golden Retriever Barks\n"
     ]
    }
   ],
   "source": [
    "# Single Inheritance\n",
    "class Dog:\n",
    "    def __init__(self, name):\n",
    "        self.name = name\n",
    "\n",
    "    def display_name(self):\n",
    "        print(f\"Dog's Name: {self.name}\")\n",
    "\n",
    "class Labrador(Dog):  # Single Inheritance\n",
    "    def sound(self):\n",
    "        print(\"Labrador woofs\")\n",
    "\n",
    "# Multilevel Inheritance\n",
    "class GuideDog(Labrador):  # Multilevel Inheritance\n",
    "    def guide(self):\n",
    "        print(f\"{self.name}Guides the way!\")\n",
    "\n",
    "# Multiple Inheritance\n",
    "class Friendly:\n",
    "    def greet(self):\n",
    "        print(\"Friendly!\")\n",
    "\n",
    "# Hierarchical Inheritance: 2 child classes of Dog (Labrador and GoldenRetriever)\n",
    "class GoldenRetriever(Dog, Friendly):  # Multiple Inheritance\n",
    "    def sound(self):\n",
    "        print(\"Golden Retriever Barks\")\n",
    "\n",
    "# Example Usage\n",
    "lab = Labrador(\"Buddy\")\n",
    "lab.display_name()\n",
    "lab.sound()\n",
    "\n",
    "guide_dog = GuideDog(\"Max\")\n",
    "guide_dog.display_name()\n",
    "guide_dog.guide()\n",
    "\n",
    "retriever = GoldenRetriever(\"Charlie\")\n",
    "retriever.display_name()\n",
    "retriever.greet()\n",
    "retriever.sound()"
   ]
  },
  {
   "cell_type": "markdown",
   "metadata": {},
   "source": [
    "## Polymorphism\n",
    "Polymorphism allows methods to have the same name but behave differently based on the object’s context. It can be achieved through method overriding or overloading.\n",
    "\n",
    "**Types of Polymorphism:**\n",
    "1. Compile-Time Polymorphism: This type of polymorphism is determined during the compilation of the program. It allows methods or operators with the same name to behave differently based on their input parameters or usage. It is commonly referred to as method or operator overloading.\n",
    "2. Run-Time Polymorphism: This type of polymorphism is determined during the execution of the program. It occurs when a subclass provides a specific implementation for a method already defined in its parent class, commonly known as method overriding.\n",
    "3. Operator overloading: Python allows operators like +, -, *, etc., to be overloaded using magic methods (also called dunder methods).\n",
    "4. Duck typing: Duck typing is a form of polymorphism where the type of an object is determined by its behavior rather than its class. \"If it looks like a duck, swims like a duck, and quacks like a duck, then it must be a duck.\""
   ]
  },
  {
   "cell_type": "code",
   "execution_count": 6,
   "metadata": {},
   "outputs": [
    {
     "name": "stdout",
     "output_type": "stream",
     "text": [
      "dog sound\n",
      "Labrador woofs\n",
      "Beagle Barks\n",
      "15\n",
      "30\n"
     ]
    }
   ],
   "source": [
    "# Parent Class\n",
    "class Dog:\n",
    "    def sound(self):\n",
    "        print(\"dog sound\")  # Default implementation\n",
    "\n",
    "# Run-Time Polymorphism: Method Overriding\n",
    "class Labrador(Dog):\n",
    "    def sound(self):\n",
    "        print(\"Labrador woofs\")  # Overriding parent method\n",
    "\n",
    "class Beagle(Dog):\n",
    "    def sound(self):\n",
    "        print(\"Beagle Barks\")  # Overriding parent method\n",
    "\n",
    "# Compile-Time Polymorphism: Method Overloading Mimic\n",
    "class Calculator:\n",
    "    def add(self, a, b=0, c=0):\n",
    "        return a + b + c  # Supports multiple ways to call add()\n",
    "\n",
    "# Run-Time Polymorphism\n",
    "dogs = [Dog(), Labrador(), Beagle()]\n",
    "for dog in dogs:\n",
    "    dog.sound()  # Calls the appropriate method based on the object type\n",
    "\n",
    "\n",
    "# Compile-Time Polymorphism (Mimicked using default arguments)\n",
    "calc = Calculator()\n",
    "print(calc.add(5, 10))  # Two arguments\n",
    "print(calc.add(5, 10, 15))  # Three arguments"
   ]
  },
  {
   "cell_type": "code",
   "execution_count": 7,
   "metadata": {},
   "outputs": [
    {
     "name": "stdout",
     "output_type": "stream",
     "text": [
      "6 + 8i\n"
     ]
    }
   ],
   "source": [
    "# Operator Overloading\n",
    "class ComplexNumber:\n",
    "    def __init__(self, real, imag):\n",
    "        self.real = real\n",
    "        self.imag = imag\n",
    "\n",
    "    def __add__(self, other):  # Overloading '+' operator\n",
    "        return ComplexNumber(self.real + other.real, self.imag + other.imag)\n",
    "\n",
    "    def __str__(self):\n",
    "        return f\"{self.real} + {self.imag}i\"\n",
    "\n",
    "# Creating objects\n",
    "num1 = ComplexNumber(2, 3)\n",
    "num2 = ComplexNumber(4, 5)\n",
    "\n",
    "# Adding objects using overloaded operator\n",
    "result = num1 + num2\n",
    "print(result)  # Output: 6 + 8i"
   ]
  },
  {
   "cell_type": "code",
   "execution_count": 8,
   "metadata": {},
   "outputs": [
    {
     "name": "stdout",
     "output_type": "stream",
     "text": [
      "Flies high in the sky\n",
      "Soars through the clouds\n"
     ]
    }
   ],
   "source": [
    "# Duck Typing\n",
    "class Bird:\n",
    "    def fly(self):\n",
    "        return \"Flies high in the sky\"\n",
    "\n",
    "class Airplane:\n",
    "    def fly(self):\n",
    "        return \"Soars through the clouds\"\n",
    "\n",
    "# Function that accepts any object with a fly() method\n",
    "def flying_object(obj):\n",
    "    print(obj.fly())\n",
    "\n",
    "# Creating objects\n",
    "bird = Bird()\n",
    "airplane = Airplane()\n",
    "\n",
    "# Using duck typing\n",
    "flying_object(bird)       # Output: Flies high in the sky\n",
    "flying_object(airplane)   # Output: Soars through the clouds\n"
   ]
  },
  {
   "cell_type": "markdown",
   "metadata": {},
   "source": [
    "## Encapsulation\n",
    "Encapsulation is the bundling of data (attributes) and methods (functions) within a class, restricting access to some components to control interactions.\n",
    "\n",
    "**Types of Encapsulation:**\n",
    "- Public Members: Accessible from anywhere.\n",
    "- Protected Members: Accessible within the class and its subclasses.\n",
    "- Private Members: Accessible only within the class."
   ]
  },
  {
   "cell_type": "code",
   "execution_count": 11,
   "metadata": {},
   "outputs": [
    {
     "name": "stdout",
     "output_type": "stream",
     "text": [
      "Buddy\n",
      "Labrador\n",
      "3\n",
      "Name: Buddy, Breed: Labrador, Age: 5\n"
     ]
    }
   ],
   "source": [
    "class Dog:\n",
    "    def __init__(self, name, breed, age):\n",
    "        self.name = name  # Public attribute\n",
    "        self._breed = breed  # Protected attribute\n",
    "        self.__age = age  # Private attribute\n",
    "\n",
    "    # Public method\n",
    "    def get_info(self):\n",
    "        return f\"Name: {self.name}, Breed: {self._breed}, Age: {self.__age}\"\n",
    "\n",
    "    # Getter and Setter for private attribute\n",
    "    def get_age(self):\n",
    "        return self.__age\n",
    "\n",
    "    def set_age(self, age):\n",
    "        if age > 0:\n",
    "            self.__age = age\n",
    "        else:\n",
    "            print(\"Invalid age!\")\n",
    "\n",
    "# Example Usage\n",
    "dog = Dog(\"Buddy\", \"Labrador\", 3)\n",
    "\n",
    "# Accessing public member\n",
    "print(dog.name)  # Accessible\n",
    "\n",
    "# Accessing protected member\n",
    "print(dog._breed)  # Accessible but discouraged outside the class\n",
    "# print(dog.get_info()) # Unaccessible\n",
    "# Accessing private member using getter\n",
    "print(dog.get_age())\n",
    "\n",
    "# Modifying private member using setter\n",
    "dog.set_age(5)\n",
    "print(dog.get_info())"
   ]
  },
  {
   "cell_type": "markdown",
   "metadata": {},
   "source": [
    "## Abstraction\n",
    "Abstraction hides the internal implementation details while exposing only the necessary functionality. It helps focus on “what to do” rather than “how to do it.”\n",
    "\n",
    "**Types of Abstraction:**\n",
    "- Partial Abstraction: Abstract class contains both abstract and concrete methods.\n",
    "- Full Abstraction: Abstract class contains only abstract methods (like interfaces)."
   ]
  },
  {
   "cell_type": "code",
   "execution_count": 13,
   "metadata": {},
   "outputs": [
    {
     "name": "stdout",
     "output_type": "stream",
     "text": [
      "Dog's Name: Buddy\n",
      "Labrador Woof!\n",
      "Dog's Name: Charlie\n",
      "Beagle Bark!\n"
     ]
    }
   ],
   "source": [
    "from abc import ABC, abstractmethod\n",
    "\n",
    "# Partial Abstraction\n",
    "class Dog(ABC):  # Abstract Class\n",
    "    def __init__(self, name):\n",
    "        self.name = name\n",
    "\n",
    "    @abstractmethod\n",
    "    def sound(self):  # Abstract Method\n",
    "        pass\n",
    "\n",
    "    def display_name(self):  # Concrete Method\n",
    "        print(f\"Dog's Name: {self.name}\")\n",
    "\n",
    "class Labrador(Dog):  # Partial Abstraction\n",
    "    def sound(self):\n",
    "        print(\"Labrador Woof!\")\n",
    "\n",
    "class Beagle(Dog):  # Partial Abstraction\n",
    "    def sound(self):\n",
    "        print(\"Beagle Bark!\")\n",
    "\n",
    "# Example Usage\n",
    "dogs = [Labrador(\"Buddy\"), Beagle(\"Charlie\")]\n",
    "for dog in dogs:\n",
    "    dog.display_name()  # Calls concrete method\n",
    "    dog.sound()  # Calls implemented abstract method"
   ]
  },
  {
   "cell_type": "code",
   "execution_count": 14,
   "metadata": {},
   "outputs": [
    {
     "name": "stdout",
     "output_type": "stream",
     "text": [
      "Area: 78.5\n",
      "Perimeter: 31.400000000000002\n"
     ]
    }
   ],
   "source": [
    "from abc import ABC, abstractmethod\n",
    "\n",
    "# Fully Abstract Class\n",
    "class Shape(ABC):\n",
    "    @abstractmethod\n",
    "    def area(self):\n",
    "        pass\n",
    "\n",
    "    @abstractmethod\n",
    "    def perimeter(self):\n",
    "        pass\n",
    "\n",
    "# Child Class implementing all abstract methods\n",
    "class Circle(Shape):\n",
    "    def __init__(self, radius):\n",
    "        self.radius = radius\n",
    "\n",
    "    def area(self):\n",
    "        return 3.14 * self.radius * self.radius\n",
    "\n",
    "    def perimeter(self):\n",
    "        return 2 * 3.14 * self.radius\n",
    "\n",
    "# Creating object of subclass\n",
    "circle = Circle(5)\n",
    "\n",
    "# Calling methods\n",
    "print(\"Area:\", circle.area())        # Output: Area: 78.5\n",
    "print(\"Perimeter:\", circle.perimeter())  # Output: Perimeter: 31.4\n"
   ]
  },
  {
   "cell_type": "markdown",
   "metadata": {},
   "source": [
    "# The 4 pillars of object-oriented programming (OOP) in Python (and generally in programming) are:\n",
    "\n",
    "- __Encapsulation__: Bundling data (attributes) and methods (functions) that operate on the data into a single unit (class).\n",
    "- __Abstraction__: Hiding complex implementation details and providing a simplified interface.\n",
    "- __Inheritance__: Allowing a class to inherit attributes and methods from another class, promoting code reuse.\n",
    "- __Polymorphism__: Using a single interface to represent different data types or objects."
   ]
  }
 ],
 "metadata": {
  "kernelspec": {
   "display_name": "base",
   "language": "python",
   "name": "python3"
  },
  "language_info": {
   "codemirror_mode": {
    "name": "ipython",
    "version": 3
   },
   "file_extension": ".py",
   "mimetype": "text/x-python",
   "name": "python",
   "nbconvert_exporter": "python",
   "pygments_lexer": "ipython3",
   "version": "3.12.7"
  }
 },
 "nbformat": 4,
 "nbformat_minor": 2
}
